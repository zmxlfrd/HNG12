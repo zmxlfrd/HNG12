{
 "cells": [
  {
   "cell_type": "markdown",
   "id": "3e3ea6f0-9ae2-4e31-91a9-8968d079fe6f",
   "metadata": {},
   "source": [
    "# Data Cleaning and Title Optimization"
   ]
  },
  {
   "cell_type": "markdown",
   "id": "cbf99b50-2f87-4686-aa10-21541b788917",
   "metadata": {},
   "source": [
    "## Table of Contents\n",
    "1. [Introduction](#introduction)\n",
    "2. [The Dataset](#the-dataset)\n",
    "3. [Data Cleaning Process](#data-cleaning)\n",
    "4. [Title Optimization Process](#title-optimization)\n",
    "5. [Conclusion](#conclusion)"
   ]
  },
  {
   "cell_type": "markdown",
   "id": "6d420647-4670-4488-a461-2b33d99260b8",
   "metadata": {},
   "source": [
    "### Libraries"
   ]
  },
  {
   "cell_type": "code",
   "execution_count": 63,
   "id": "3a0bf77a-5226-419f-a2e6-4c802a64fae3",
   "metadata": {},
   "outputs": [],
   "source": [
    "import pandas as pd\n",
    "import numpy as np\n",
    "import re"
   ]
  },
  {
   "cell_type": "markdown",
   "id": "6b801311-a06d-44f3-8566-2a9294443dee",
   "metadata": {},
   "source": [
    "## 1. Introduction <a id=\"introduction\"></a>"
   ]
  },
  {
   "cell_type": "markdown",
   "id": "84ffbc05-6a3f-4ec3-9f28-ea51f1339f02",
   "metadata": {},
   "source": [
    "### Objective:\n",
    "The goal of this project is to clean raw product data and optimize product titles for better marketing impact. This involves:\n",
    "- Identifying and resolving data quality issues.\n",
    "- Standardizing formats and handling missing values.\n",
    "- Creating a new short_title feature to improve SEO and readability."
   ]
  },
  {
   "cell_type": "markdown",
   "id": "90a6773d-c426-45da-8b71-e860bb94a640",
   "metadata": {},
   "source": [
    "### 2. The Dataset <a id=\"the-dataset\"></a>"
   ]
  },
  {
   "cell_type": "code",
   "execution_count": 64,
   "id": "b4f10320-75f3-4c02-be92-f619dee95131",
   "metadata": {},
   "outputs": [
    {
     "data": {
      "text/html": [
       "<div>\n",
       "<style scoped>\n",
       "    .dataframe tbody tr th:only-of-type {\n",
       "        vertical-align: middle;\n",
       "    }\n",
       "\n",
       "    .dataframe tbody tr th {\n",
       "        vertical-align: top;\n",
       "    }\n",
       "\n",
       "    .dataframe thead th {\n",
       "        text-align: right;\n",
       "    }\n",
       "</style>\n",
       "<table border=\"1\" class=\"dataframe\">\n",
       "  <thead>\n",
       "    <tr style=\"text-align: right;\">\n",
       "      <th></th>\n",
       "      <th>PRODUCTID</th>\n",
       "      <th>TITLE</th>\n",
       "      <th>BULLET_POINTS</th>\n",
       "      <th>DESCRIPTION</th>\n",
       "      <th>PRODUCTTYPEID</th>\n",
       "      <th>ProductLength</th>\n",
       "    </tr>\n",
       "  </thead>\n",
       "  <tbody>\n",
       "    <tr>\n",
       "      <th>0</th>\n",
       "      <td>1925202</td>\n",
       "      <td>ArtzFolio Tulip Flowers Blackout Curtain for D...</td>\n",
       "      <td>[LUXURIOUS &amp; APPEALING: Beautiful custom-made ...</td>\n",
       "      <td>NaN</td>\n",
       "      <td>1650.0</td>\n",
       "      <td>2125.980000</td>\n",
       "    </tr>\n",
       "    <tr>\n",
       "      <th>1</th>\n",
       "      <td>2673191</td>\n",
       "      <td>Marks &amp; Spencer Girls' Pyjama Sets T86_2561C_N...</td>\n",
       "      <td>[Harry Potter Hedwig Pyjamas (6-16 Yrs),100% c...</td>\n",
       "      <td>NaN</td>\n",
       "      <td>2755.0</td>\n",
       "      <td>393.700000</td>\n",
       "    </tr>\n",
       "    <tr>\n",
       "      <th>2</th>\n",
       "      <td>2765088</td>\n",
       "      <td>PRIKNIK Horn Red Electric Air Horn Compressor ...</td>\n",
       "      <td>[Loud Dual Tone Trumpet Horn, Compatible With ...</td>\n",
       "      <td>Specifications: Color: Red, Material: Aluminiu...</td>\n",
       "      <td>7537.0</td>\n",
       "      <td>748.031495</td>\n",
       "    </tr>\n",
       "    <tr>\n",
       "      <th>3</th>\n",
       "      <td>1594019</td>\n",
       "      <td>ALISHAH Women's Cotton Ankle Length Leggings C...</td>\n",
       "      <td>[Made By 95%cotton and 5% Lycra which gives yo...</td>\n",
       "      <td>AISHAH Women's Lycra Cotton Ankel Leggings. Br...</td>\n",
       "      <td>2996.0</td>\n",
       "      <td>787.401574</td>\n",
       "    </tr>\n",
       "    <tr>\n",
       "      <th>4</th>\n",
       "      <td>283658</td>\n",
       "      <td>The United Empire Loyalists: A Chronicle of th...</td>\n",
       "      <td>NaN</td>\n",
       "      <td>NaN</td>\n",
       "      <td>6112.0</td>\n",
       "      <td>598.424000</td>\n",
       "    </tr>\n",
       "  </tbody>\n",
       "</table>\n",
       "</div>"
      ],
      "text/plain": [
       "   PRODUCTID                                              TITLE  \\\n",
       "0    1925202  ArtzFolio Tulip Flowers Blackout Curtain for D...   \n",
       "1    2673191  Marks & Spencer Girls' Pyjama Sets T86_2561C_N...   \n",
       "2    2765088  PRIKNIK Horn Red Electric Air Horn Compressor ...   \n",
       "3    1594019  ALISHAH Women's Cotton Ankle Length Leggings C...   \n",
       "4     283658  The United Empire Loyalists: A Chronicle of th...   \n",
       "\n",
       "                                       BULLET_POINTS  \\\n",
       "0  [LUXURIOUS & APPEALING: Beautiful custom-made ...   \n",
       "1  [Harry Potter Hedwig Pyjamas (6-16 Yrs),100% c...   \n",
       "2  [Loud Dual Tone Trumpet Horn, Compatible With ...   \n",
       "3  [Made By 95%cotton and 5% Lycra which gives yo...   \n",
       "4                                                NaN   \n",
       "\n",
       "                                         DESCRIPTION  PRODUCTTYPEID  \\\n",
       "0                                                NaN         1650.0   \n",
       "1                                                NaN         2755.0   \n",
       "2  Specifications: Color: Red, Material: Aluminiu...         7537.0   \n",
       "3  AISHAH Women's Lycra Cotton Ankel Leggings. Br...         2996.0   \n",
       "4                                                NaN         6112.0   \n",
       "\n",
       "   ProductLength  \n",
       "0    2125.980000  \n",
       "1     393.700000  \n",
       "2     748.031495  \n",
       "3     787.401574  \n",
       "4     598.424000  "
      ]
     },
     "execution_count": 64,
     "metadata": {},
     "output_type": "execute_result"
    }
   ],
   "source": [
    "path = \"C:/Users/Alfred Zimo/OneDrive/Desktop/desktop stuff/Data Science/HGN12/Stage 1/productdata.xlsx\"\n",
    "df = pd.read_excel(path)\n",
    "df.head()"
   ]
  },
  {
   "cell_type": "markdown",
   "id": "e073311a-fb0d-43c5-a55b-9c4c0ed97838",
   "metadata": {},
   "source": [
    "The dataset consist of 3,847 rows and 6 columns of product related information, including:\n",
    "- PRODUCTID: and identifier for each product\n",
    "- TITLE: full product title\n",
    "- BULLET_POINTS: product features\n",
    "- DESCRIPTION: Product description\n",
    "- PRODUCTTYPEID: category \n",
    "- ProductLength: measurement"
   ]
  },
  {
   "cell_type": "markdown",
   "id": "5000eaa6-b12c-487a-9e0d-574ec43d55e6",
   "metadata": {},
   "source": [
    "## 3. Data Cleaning Process <a id=\"data-cleaning\"></a>"
   ]
  },
  {
   "cell_type": "markdown",
   "id": "46399f68-05ec-4ee2-9fac-a572f460295d",
   "metadata": {},
   "source": [
    "### Handling missing values"
   ]
  },
  {
   "cell_type": "code",
   "execution_count": 65,
   "id": "fc248755-4f68-4c4d-88c4-32b24ca5631a",
   "metadata": {},
   "outputs": [
    {
     "data": {
      "text/plain": [
       "PRODUCTID           0\n",
       "TITLE               0\n",
       "BULLET_POINTS    1591\n",
       "DESCRIPTION      2144\n",
       "PRODUCTTYPEID     178\n",
       "ProductLength     178\n",
       "dtype: int64"
      ]
     },
     "execution_count": 65,
     "metadata": {},
     "output_type": "execute_result"
    }
   ],
   "source": [
    "missing_values = df.isnull().sum()\n",
    "missing_values"
   ]
  },
  {
   "cell_type": "markdown",
   "id": "8c4f4ffd-4963-4914-a0ed-a20c99475443",
   "metadata": {},
   "source": [
    "Filling missing values of categorical columns"
   ]
  },
  {
   "cell_type": "code",
   "execution_count": 66,
   "id": "c9a314f8-2dcd-417e-b211-ed5a0f237f41",
   "metadata": {},
   "outputs": [],
   "source": [
    "df[\"BULLET_POINTS\"].fillna(\"Not Available\", inplace=True)\n",
    "df[\"DESCRIPTION\"].fillna(\"Not Available\", inplace=True)"
   ]
  },
  {
   "cell_type": "markdown",
   "id": "81f2669d-b887-49fd-b43b-daaf1852de7b",
   "metadata": {},
   "source": [
    "Handling missing values of numerical columns"
   ]
  },
  {
   "cell_type": "code",
   "execution_count": 67,
   "id": "56faf593-a5a8-4f3c-a9c8-61528ee6af03",
   "metadata": {},
   "outputs": [],
   "source": [
    "df[\"PRODUCTTYPEID\"].fillna(df[\"PRODUCTTYPEID\"].median(), inplace=True)\n",
    "df[\"ProductLength\"].fillna(df[\"ProductLength\"].median(), inplace=True)"
   ]
  },
  {
   "cell_type": "code",
   "execution_count": 68,
   "id": "9e0cbb8d-581f-4d3a-a569-b2935a27c97e",
   "metadata": {},
   "outputs": [
    {
     "data": {
      "text/plain": [
       "PRODUCTID        0\n",
       "TITLE            0\n",
       "BULLET_POINTS    0\n",
       "DESCRIPTION      0\n",
       "PRODUCTTYPEID    0\n",
       "ProductLength    0\n",
       "dtype: int64"
      ]
     },
     "execution_count": 68,
     "metadata": {},
     "output_type": "execute_result"
    }
   ],
   "source": [
    "df.isnull().sum()"
   ]
  },
  {
   "cell_type": "markdown",
   "id": "923c79d0-fd2d-461a-963b-f274c2473019",
   "metadata": {},
   "source": [
    "### Handling duplicates"
   ]
  },
  {
   "cell_type": "code",
   "execution_count": 69,
   "id": "ea993ec6-bb29-4455-a628-2ea4c94a2cd5",
   "metadata": {},
   "outputs": [
    {
     "data": {
      "text/plain": [
       "217"
      ]
     },
     "execution_count": 69,
     "metadata": {},
     "output_type": "execute_result"
    }
   ],
   "source": [
    "duplicates = df.duplicated().sum()\n",
    "duplicates"
   ]
  },
  {
   "cell_type": "code",
   "execution_count": 70,
   "id": "b4a41ce7-7e87-42c1-bd3d-2bd08b931883",
   "metadata": {},
   "outputs": [],
   "source": [
    "df = df.drop_duplicates()"
   ]
  },
  {
   "cell_type": "code",
   "execution_count": 71,
   "id": "49e57981-5010-4597-aa26-fa12769738c6",
   "metadata": {},
   "outputs": [
    {
     "data": {
      "text/plain": [
       "0"
      ]
     },
     "execution_count": 71,
     "metadata": {},
     "output_type": "execute_result"
    }
   ],
   "source": [
    "df.duplicated().sum()"
   ]
  },
  {
   "cell_type": "markdown",
   "id": "2f9d0db4-e119-408b-8553-96ef116d6c2a",
   "metadata": {},
   "source": [
    "### Verifying Data Accuracy\n",
    "\n",
    "Check invalid negative prices"
   ]
  },
  {
   "cell_type": "code",
   "execution_count": 72,
   "id": "d3e89bdd-a7da-4cb1-b4b8-c82e702606e6",
   "metadata": {},
   "outputs": [],
   "source": [
    "invalid_product_length = (df[\"ProductLength\"] < 0).sum()"
   ]
  },
  {
   "cell_type": "markdown",
   "id": "a1c6afea-636c-412c-a44a-dea40b68d684",
   "metadata": {},
   "source": [
    "### Standardize column names"
   ]
  },
  {
   "cell_type": "markdown",
   "id": "c255395d-478b-44bf-b2b6-3cfd342a581f",
   "metadata": {},
   "source": [
    "The aim is to standardize the column names for consistency"
   ]
  },
  {
   "cell_type": "code",
   "execution_count": 73,
   "id": "b7fbc07e-6a49-4f7e-a1b5-67ca851a144b",
   "metadata": {},
   "outputs": [],
   "source": [
    "df.rename(columns={\n",
    "    \"ProductLength\": \"product_length\",\n",
    "    \"PRODUCTTYPEID\": \"product_type_id\",\n",
    "    \"PRODUCTID\": \"product_id\",}, inplace=True)"
   ]
  },
  {
   "cell_type": "code",
   "execution_count": 74,
   "id": "0789c413-c527-4ec1-bb82-709bf97a8589",
   "metadata": {},
   "outputs": [],
   "source": [
    "df.columns = [col.lower() for col in df.columns]"
   ]
  },
  {
   "cell_type": "code",
   "execution_count": 75,
   "id": "beb46c70-b699-45a7-b226-1d218df0b462",
   "metadata": {},
   "outputs": [
    {
     "data": {
      "text/html": [
       "<div>\n",
       "<style scoped>\n",
       "    .dataframe tbody tr th:only-of-type {\n",
       "        vertical-align: middle;\n",
       "    }\n",
       "\n",
       "    .dataframe tbody tr th {\n",
       "        vertical-align: top;\n",
       "    }\n",
       "\n",
       "    .dataframe thead th {\n",
       "        text-align: right;\n",
       "    }\n",
       "</style>\n",
       "<table border=\"1\" class=\"dataframe\">\n",
       "  <thead>\n",
       "    <tr style=\"text-align: right;\">\n",
       "      <th></th>\n",
       "      <th>product_id</th>\n",
       "      <th>title</th>\n",
       "      <th>bullet_points</th>\n",
       "      <th>description</th>\n",
       "      <th>product_type_id</th>\n",
       "      <th>product_length</th>\n",
       "    </tr>\n",
       "  </thead>\n",
       "  <tbody>\n",
       "    <tr>\n",
       "      <th>0</th>\n",
       "      <td>1925202</td>\n",
       "      <td>ArtzFolio Tulip Flowers Blackout Curtain for D...</td>\n",
       "      <td>[LUXURIOUS &amp; APPEALING: Beautiful custom-made ...</td>\n",
       "      <td>Not Available</td>\n",
       "      <td>1650.0</td>\n",
       "      <td>2125.98</td>\n",
       "    </tr>\n",
       "    <tr>\n",
       "      <th>1</th>\n",
       "      <td>2673191</td>\n",
       "      <td>Marks &amp; Spencer Girls' Pyjama Sets T86_2561C_N...</td>\n",
       "      <td>[Harry Potter Hedwig Pyjamas (6-16 Yrs),100% c...</td>\n",
       "      <td>Not Available</td>\n",
       "      <td>2755.0</td>\n",
       "      <td>393.70</td>\n",
       "    </tr>\n",
       "  </tbody>\n",
       "</table>\n",
       "</div>"
      ],
      "text/plain": [
       "   product_id                                              title  \\\n",
       "0     1925202  ArtzFolio Tulip Flowers Blackout Curtain for D...   \n",
       "1     2673191  Marks & Spencer Girls' Pyjama Sets T86_2561C_N...   \n",
       "\n",
       "                                       bullet_points    description  \\\n",
       "0  [LUXURIOUS & APPEALING: Beautiful custom-made ...  Not Available   \n",
       "1  [Harry Potter Hedwig Pyjamas (6-16 Yrs),100% c...  Not Available   \n",
       "\n",
       "   product_type_id  product_length  \n",
       "0           1650.0         2125.98  \n",
       "1           2755.0          393.70  "
      ]
     },
     "execution_count": 75,
     "metadata": {},
     "output_type": "execute_result"
    }
   ],
   "source": [
    "df.head(2)"
   ]
  },
  {
   "cell_type": "markdown",
   "id": "51f894b5-86d6-414a-9d57-50794cc7e928",
   "metadata": {},
   "source": [
    "All missing values have been handled, duplicates removed, and column names standardized"
   ]
  },
  {
   "cell_type": "markdown",
   "id": "aea943e8-db6a-4b53-9d3e-88a69a337e0a",
   "metadata": {},
   "source": [
    "### 4. Title Optimization Process <a id=\"title-optimization\"></a>"
   ]
  },
  {
   "cell_type": "markdown",
   "id": "f150e99c-fa13-4e68-9fc9-92db2daa35cb",
   "metadata": {},
   "source": [
    "The objective is to generate a concise version of the product titles that retains essential details and immproves readability for marketing and SEO purposes. \n",
    "- Each title has three elements: product name, category and attributes.\n",
    "- We need to remove redundant words like \"includes\", \"set of\", etc.\n",
    "- create new columns short_title\n",
    "- Limit short_titles to 30-50 characters"
   ]
  },
  {
   "cell_type": "code",
   "execution_count": 76,
   "id": "2d5d8a3d-5c78-4e40-b52f-259eaf4502a2",
   "metadata": {},
   "outputs": [],
   "source": [
    "def create_short_title(title):\n",
    "    # Remove brand names\n",
    "    brand_words = [\"ArtzFolio\", \"Marks & Spencer\", \"PRIKNIK\", \"ALISHAH\", \"HINS\", \"PUMA\", \"Hexwell\", \"Delavala\"]\n",
    "    for brand in brand_words:\n",
    "        title = re.sub(rf\"\\b{brand}\\b\", \"\", title, flags=re.IGNORECASE)\n",
    "\n",
    "    # Remove redundant words/phrase\n",
    "    redundant_phrases = [\n",
    "        \"for\", \"with\", \"and\", \"&\", \"includes\", \"set of\", \"features\", \"pack of\", \n",
    "        \"combo\", \"tie back\", \"fabric\", \"material\", \"made of\", \"door\", \n",
    "        \"window\", \"room\", \"kit\", \"series\", \"edition\", \"eyelets\", \"canvas\", \"pcs\", \"width\",\n",
    "        \"inch\", \"feet\", \"cm\", \"meter\", \"ml\", \"litre\", \"oz\", \"g\", \"kg\", \"count\", \"includes\", \"features\"\n",
    "    ]\n",
    "    for phrase in redundant_phrases:\n",
    "        title = re.sub(rf\"\\b{phrase}\\b\", \"\", title, flags=re.IGNORECASE)\n",
    "\n",
    "    # Remove product codes \n",
    "    title = re.sub(r\"\\b[A-Z0-9_]+\\b\", \"\", title)  \n",
    "\n",
    "    # Remove unwanted special characters and multiple spaces\n",
    "    title = re.sub(r\"[\\|\\(\\)\\[\\]\\{\\}]\", \"\", title)\n",
    "    title = re.sub(r\"\\s+\", \" \", title).strip()\n",
    "\n",
    "    # Extract key words: \n",
    "    words = title.split()\n",
    "    important_words = [word for word in words if len(word) > 2 or re.search(r'\\d+', word)]\n",
    "\n",
    "    # Ensure correct structure: Name + Category + Key Attribute\n",
    "    short_title = \" \".join(important_words[:6])\n",
    "\n",
    "    # Final length constraint (30-50 characters)\n",
    "    if len(short_title) > 50:\n",
    "        short_title = short_title[:50].rsplit(' ', 1)[0]\n",
    "\n",
    "    return short_title\n"
   ]
  },
  {
   "cell_type": "code",
   "execution_count": 77,
   "id": "8bc0cd70-a974-4b7c-8687-142f0de84111",
   "metadata": {},
   "outputs": [
    {
     "data": {
      "text/html": [
       "<div>\n",
       "<style scoped>\n",
       "    .dataframe tbody tr th:only-of-type {\n",
       "        vertical-align: middle;\n",
       "    }\n",
       "\n",
       "    .dataframe tbody tr th {\n",
       "        vertical-align: top;\n",
       "    }\n",
       "\n",
       "    .dataframe thead th {\n",
       "        text-align: right;\n",
       "    }\n",
       "</style>\n",
       "<table border=\"1\" class=\"dataframe\">\n",
       "  <thead>\n",
       "    <tr style=\"text-align: right;\">\n",
       "      <th></th>\n",
       "      <th>title</th>\n",
       "      <th>short_title</th>\n",
       "    </tr>\n",
       "  </thead>\n",
       "  <tbody>\n",
       "    <tr>\n",
       "      <th>0</th>\n",
       "      <td>ArtzFolio Tulip Flowers Blackout Curtain for D...</td>\n",
       "      <td>Tulip Flowers Blackout Curtain .5feet 54inch</td>\n",
       "    </tr>\n",
       "    <tr>\n",
       "      <th>1</th>\n",
       "      <td>Marks &amp; Spencer Girls' Pyjama Sets T86_2561C_N...</td>\n",
       "      <td>Girls' Pyjama Sets T86_2561C_Navy Mix_9-</td>\n",
       "    </tr>\n",
       "    <tr>\n",
       "      <th>2</th>\n",
       "      <td>PRIKNIK Horn Red Electric Air Horn Compressor ...</td>\n",
       "      <td>Horn Red Electric Air Horn Compressor</td>\n",
       "    </tr>\n",
       "    <tr>\n",
       "      <th>3</th>\n",
       "      <td>ALISHAH Women's Cotton Ankle Length Leggings C...</td>\n",
       "      <td>Women's Cotton Ankle Length Leggings Plus</td>\n",
       "    </tr>\n",
       "    <tr>\n",
       "      <th>4</th>\n",
       "      <td>The United Empire Loyalists: A Chronicle of th...</td>\n",
       "      <td>The United Empire Loyalists: Chronicle the</td>\n",
       "    </tr>\n",
       "    <tr>\n",
       "      <th>5</th>\n",
       "      <td>HINS Metal Bucket Shape Plant Pot for Indoor &amp;...</td>\n",
       "      <td>Metal Bucket Shape Plant Pot Indoor</td>\n",
       "    </tr>\n",
       "    <tr>\n",
       "      <th>6</th>\n",
       "      <td>Ungifted: My Life and Journey</td>\n",
       "      <td>Ungifted: Life Journey</td>\n",
       "    </tr>\n",
       "    <tr>\n",
       "      <th>7</th>\n",
       "      <td>Delavala Self Adhesive Kitchen Backsplash Wall...</td>\n",
       "      <td>Self Adhesive Kitchen Backsplash Wallpaper, Oil</td>\n",
       "    </tr>\n",
       "    <tr>\n",
       "      <th>8</th>\n",
       "      <td>PUMA Cali Sport Clean Women's Sneakers White L...</td>\n",
       "      <td>Cali Sport Clean Women's Sneakers White</td>\n",
       "    </tr>\n",
       "    <tr>\n",
       "      <th>9</th>\n",
       "      <td>Hexwell Essential oil for Home Fragrance Oil A...</td>\n",
       "      <td>Essential oil Home Fragrance Oil Aroma</td>\n",
       "    </tr>\n",
       "    <tr>\n",
       "      <th>10</th>\n",
       "      <td>3NHÂ® Glasses Goggles Anti Fog Antis Windproof...</td>\n",
       "      <td>3NHÂ® Glasses Goggles Anti Fog Antis</td>\n",
       "    </tr>\n",
       "    <tr>\n",
       "      <th>11</th>\n",
       "      <td>La Mure / Valbonnais gps</td>\n",
       "      <td>Mure Valbonnais gps</td>\n",
       "    </tr>\n",
       "    <tr>\n",
       "      <th>12</th>\n",
       "      <td>J'ecris des lettres! premiers exercices d'Ã©cr...</td>\n",
       "      <td>'ecris des lettres! premiers exercices d'Ã©cri...</td>\n",
       "    </tr>\n",
       "    <tr>\n",
       "      <th>13</th>\n",
       "      <td>Mediterranean diet for beginners: 7Benefits of...</td>\n",
       "      <td>Mediterranean diet beginners: 7Benefits</td>\n",
       "    </tr>\n",
       "    <tr>\n",
       "      <th>14</th>\n",
       "      <td>SEGOVIA Single Walled Stainless Steel Sports| ...</td>\n",
       "      <td>Single Walled Stainless Steel Sports fridge</td>\n",
       "    </tr>\n",
       "    <tr>\n",
       "      <th>15</th>\n",
       "      <td>Stone &amp; Beam Fan Embossed Planter in Blue, Medium</td>\n",
       "      <td>Stone Beam Fan Embossed Planter Blue,</td>\n",
       "    </tr>\n",
       "    <tr>\n",
       "      <th>16</th>\n",
       "      <td>Star Trek 50th Anniversary Cereamic Storage Jar</td>\n",
       "      <td>Star Trek 50th Anniversary Cereamic Storage</td>\n",
       "    </tr>\n",
       "    <tr>\n",
       "      <th>17</th>\n",
       "      <td>Steelbird Hi-Gn SBH-11 HUNK Glossy Black and B...</td>\n",
       "      <td>Steelbird Hi-Gn Glossy Black Blue Smoke</td>\n",
       "    </tr>\n",
       "    <tr>\n",
       "      <th>18</th>\n",
       "      <td>Kenneth Cole REACTION Men's Crespo Loafer B Sh...</td>\n",
       "      <td>Kenneth Cole Men's Crespo Loafer Shoe,</td>\n",
       "    </tr>\n",
       "    <tr>\n",
       "      <th>19</th>\n",
       "      <td>MASTER OF THE RINGS</td>\n",
       "      <td></td>\n",
       "    </tr>\n",
       "  </tbody>\n",
       "</table>\n",
       "</div>"
      ],
      "text/plain": [
       "                                                title  \\\n",
       "0   ArtzFolio Tulip Flowers Blackout Curtain for D...   \n",
       "1   Marks & Spencer Girls' Pyjama Sets T86_2561C_N...   \n",
       "2   PRIKNIK Horn Red Electric Air Horn Compressor ...   \n",
       "3   ALISHAH Women's Cotton Ankle Length Leggings C...   \n",
       "4   The United Empire Loyalists: A Chronicle of th...   \n",
       "5   HINS Metal Bucket Shape Plant Pot for Indoor &...   \n",
       "6                       Ungifted: My Life and Journey   \n",
       "7   Delavala Self Adhesive Kitchen Backsplash Wall...   \n",
       "8   PUMA Cali Sport Clean Women's Sneakers White L...   \n",
       "9   Hexwell Essential oil for Home Fragrance Oil A...   \n",
       "10  3NHÂ® Glasses Goggles Anti Fog Antis Windproof...   \n",
       "11                           La Mure / Valbonnais gps   \n",
       "12  J'ecris des lettres! premiers exercices d'Ã©cr...   \n",
       "13  Mediterranean diet for beginners: 7Benefits of...   \n",
       "14  SEGOVIA Single Walled Stainless Steel Sports| ...   \n",
       "15  Stone & Beam Fan Embossed Planter in Blue, Medium   \n",
       "16    Star Trek 50th Anniversary Cereamic Storage Jar   \n",
       "17  Steelbird Hi-Gn SBH-11 HUNK Glossy Black and B...   \n",
       "18  Kenneth Cole REACTION Men's Crespo Loafer B Sh...   \n",
       "19                                MASTER OF THE RINGS   \n",
       "\n",
       "                                          short_title  \n",
       "0        Tulip Flowers Blackout Curtain .5feet 54inch  \n",
       "1            Girls' Pyjama Sets T86_2561C_Navy Mix_9-  \n",
       "2               Horn Red Electric Air Horn Compressor  \n",
       "3           Women's Cotton Ankle Length Leggings Plus  \n",
       "4          The United Empire Loyalists: Chronicle the  \n",
       "5                 Metal Bucket Shape Plant Pot Indoor  \n",
       "6                              Ungifted: Life Journey  \n",
       "7     Self Adhesive Kitchen Backsplash Wallpaper, Oil  \n",
       "8             Cali Sport Clean Women's Sneakers White  \n",
       "9              Essential oil Home Fragrance Oil Aroma  \n",
       "10               3NHÂ® Glasses Goggles Anti Fog Antis  \n",
       "11                                Mure Valbonnais gps  \n",
       "12  'ecris des lettres! premiers exercices d'Ã©cri...  \n",
       "13            Mediterranean diet beginners: 7Benefits  \n",
       "14        Single Walled Stainless Steel Sports fridge  \n",
       "15              Stone Beam Fan Embossed Planter Blue,  \n",
       "16        Star Trek 50th Anniversary Cereamic Storage  \n",
       "17            Steelbird Hi-Gn Glossy Black Blue Smoke  \n",
       "18             Kenneth Cole Men's Crespo Loafer Shoe,  \n",
       "19                                                     "
      ]
     },
     "execution_count": 77,
     "metadata": {},
     "output_type": "execute_result"
    }
   ],
   "source": [
    "# create short_title column\n",
    "df[\"short_title\"] = df[\"title\"].apply(create_short_title)\n",
    "\n",
    "df[[\"title\", \"short_title\"]].head(20)"
   ]
  },
  {
   "cell_type": "code",
   "execution_count": 78,
   "id": "084c6a19-a310-4df7-9739-97ef646554cf",
   "metadata": {},
   "outputs": [
    {
     "data": {
      "text/html": [
       "<div>\n",
       "<style scoped>\n",
       "    .dataframe tbody tr th:only-of-type {\n",
       "        vertical-align: middle;\n",
       "    }\n",
       "\n",
       "    .dataframe tbody tr th {\n",
       "        vertical-align: top;\n",
       "    }\n",
       "\n",
       "    .dataframe thead th {\n",
       "        text-align: right;\n",
       "    }\n",
       "</style>\n",
       "<table border=\"1\" class=\"dataframe\">\n",
       "  <thead>\n",
       "    <tr style=\"text-align: right;\">\n",
       "      <th></th>\n",
       "      <th>product_id</th>\n",
       "      <th>title</th>\n",
       "      <th>bullet_points</th>\n",
       "      <th>description</th>\n",
       "      <th>product_type_id</th>\n",
       "      <th>product_length</th>\n",
       "      <th>short_title</th>\n",
       "    </tr>\n",
       "  </thead>\n",
       "  <tbody>\n",
       "    <tr>\n",
       "      <th>0</th>\n",
       "      <td>1925202</td>\n",
       "      <td>ArtzFolio Tulip Flowers Blackout Curtain for D...</td>\n",
       "      <td>[LUXURIOUS &amp; APPEALING: Beautiful custom-made ...</td>\n",
       "      <td>Not Available</td>\n",
       "      <td>1650.0</td>\n",
       "      <td>2125.980000</td>\n",
       "      <td>Tulip Flowers Blackout Curtain .5feet 54inch</td>\n",
       "    </tr>\n",
       "    <tr>\n",
       "      <th>1</th>\n",
       "      <td>2673191</td>\n",
       "      <td>Marks &amp; Spencer Girls' Pyjama Sets T86_2561C_N...</td>\n",
       "      <td>[Harry Potter Hedwig Pyjamas (6-16 Yrs),100% c...</td>\n",
       "      <td>Not Available</td>\n",
       "      <td>2755.0</td>\n",
       "      <td>393.700000</td>\n",
       "      <td>Girls' Pyjama Sets T86_2561C_Navy Mix_9-</td>\n",
       "    </tr>\n",
       "    <tr>\n",
       "      <th>2</th>\n",
       "      <td>2765088</td>\n",
       "      <td>PRIKNIK Horn Red Electric Air Horn Compressor ...</td>\n",
       "      <td>[Loud Dual Tone Trumpet Horn, Compatible With ...</td>\n",
       "      <td>Specifications: Color: Red, Material: Aluminiu...</td>\n",
       "      <td>7537.0</td>\n",
       "      <td>748.031495</td>\n",
       "      <td>Horn Red Electric Air Horn Compressor</td>\n",
       "    </tr>\n",
       "    <tr>\n",
       "      <th>3</th>\n",
       "      <td>1594019</td>\n",
       "      <td>ALISHAH Women's Cotton Ankle Length Leggings C...</td>\n",
       "      <td>[Made By 95%cotton and 5% Lycra which gives yo...</td>\n",
       "      <td>AISHAH Women's Lycra Cotton Ankel Leggings. Br...</td>\n",
       "      <td>2996.0</td>\n",
       "      <td>787.401574</td>\n",
       "      <td>Women's Cotton Ankle Length Leggings Plus</td>\n",
       "    </tr>\n",
       "    <tr>\n",
       "      <th>4</th>\n",
       "      <td>283658</td>\n",
       "      <td>The United Empire Loyalists: A Chronicle of th...</td>\n",
       "      <td>Not Available</td>\n",
       "      <td>Not Available</td>\n",
       "      <td>6112.0</td>\n",
       "      <td>598.424000</td>\n",
       "      <td>The United Empire Loyalists: Chronicle the</td>\n",
       "    </tr>\n",
       "  </tbody>\n",
       "</table>\n",
       "</div>"
      ],
      "text/plain": [
       "   product_id                                              title  \\\n",
       "0     1925202  ArtzFolio Tulip Flowers Blackout Curtain for D...   \n",
       "1     2673191  Marks & Spencer Girls' Pyjama Sets T86_2561C_N...   \n",
       "2     2765088  PRIKNIK Horn Red Electric Air Horn Compressor ...   \n",
       "3     1594019  ALISHAH Women's Cotton Ankle Length Leggings C...   \n",
       "4      283658  The United Empire Loyalists: A Chronicle of th...   \n",
       "\n",
       "                                       bullet_points  \\\n",
       "0  [LUXURIOUS & APPEALING: Beautiful custom-made ...   \n",
       "1  [Harry Potter Hedwig Pyjamas (6-16 Yrs),100% c...   \n",
       "2  [Loud Dual Tone Trumpet Horn, Compatible With ...   \n",
       "3  [Made By 95%cotton and 5% Lycra which gives yo...   \n",
       "4                                      Not Available   \n",
       "\n",
       "                                         description  product_type_id  \\\n",
       "0                                      Not Available           1650.0   \n",
       "1                                      Not Available           2755.0   \n",
       "2  Specifications: Color: Red, Material: Aluminiu...           7537.0   \n",
       "3  AISHAH Women's Lycra Cotton Ankel Leggings. Br...           2996.0   \n",
       "4                                      Not Available           6112.0   \n",
       "\n",
       "   product_length                                   short_title  \n",
       "0     2125.980000  Tulip Flowers Blackout Curtain .5feet 54inch  \n",
       "1      393.700000      Girls' Pyjama Sets T86_2561C_Navy Mix_9-  \n",
       "2      748.031495         Horn Red Electric Air Horn Compressor  \n",
       "3      787.401574     Women's Cotton Ankle Length Leggings Plus  \n",
       "4      598.424000    The United Empire Loyalists: Chronicle the  "
      ]
     },
     "execution_count": 78,
     "metadata": {},
     "output_type": "execute_result"
    }
   ],
   "source": [
    "df.head()"
   ]
  },
  {
   "cell_type": "markdown",
   "id": "2fa12bca-2f32-48c9-8eec-de53f0084787",
   "metadata": {},
   "source": [
    "### Conclusion"
   ]
  },
  {
   "cell_type": "markdown",
   "id": "552ff106-2aac-43f9-a307-85cd4ecf4a5d",
   "metadata": {},
   "source": [
    "This report details the data cleaning and title optimization process for the given marketing dataset. The goal was to address data quality issues, standardize formats, and create a concise short_title feature for improved SEO and readability"
   ]
  },
  {
   "cell_type": "code",
   "execution_count": 79,
   "id": "7aa9d144-69d4-4635-bc89-c9a82d167e7c",
   "metadata": {},
   "outputs": [],
   "source": [
    "cleaned_file_path = \"cleaned_productdata.xlsx\"\n",
    "df.to_excel(cleaned_file_path, index=False)"
   ]
  },
  {
   "cell_type": "code",
   "execution_count": null,
   "id": "99ceebfe-6f89-4f20-968e-2293dc7fbed5",
   "metadata": {},
   "outputs": [],
   "source": []
  }
 ],
 "metadata": {
  "kernelspec": {
   "display_name": "Python 3 (ipykernel)",
   "language": "python",
   "name": "python3"
  },
  "language_info": {
   "codemirror_mode": {
    "name": "ipython",
    "version": 3
   },
   "file_extension": ".py",
   "mimetype": "text/x-python",
   "name": "python",
   "nbconvert_exporter": "python",
   "pygments_lexer": "ipython3",
   "version": "3.11.7"
  }
 },
 "nbformat": 4,
 "nbformat_minor": 5
}
